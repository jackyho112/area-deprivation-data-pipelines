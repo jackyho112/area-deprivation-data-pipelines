{
 "cells": [
  {
   "cell_type": "code",
   "execution_count": 1,
   "metadata": {},
   "outputs": [],
   "source": [
    "# https://boto3.amazonaws.com/v1/documentation/api/latest/guide/quickstart.html\n",
    "import boto3 \n",
    "import datetime\n",
    "import time"
   ]
  },
  {
   "cell_type": "code",
   "execution_count": 2,
   "metadata": {},
   "outputs": [],
   "source": [
    "dx = boto3.client('dataexchange', region_name='us-east-1')"
   ]
  },
  {
   "cell_type": "code",
   "execution_count": 3,
   "metadata": {},
   "outputs": [],
   "source": [
    "data_set_id='d0e9bd6148e8f14889980954017b0927'"
   ]
  },
  {
   "cell_type": "code",
   "execution_count": 4,
   "metadata": {},
   "outputs": [
    {
     "data": {
      "text/plain": [
       "{'ResponseMetadata': {'RequestId': '9be03daa-d578-4bc2-8509-9943ced0e83f',\n",
       "  'HTTPStatusCode': 200,\n",
       "  'HTTPHeaders': {'content-type': 'application/json',\n",
       "   'content-length': '474',\n",
       "   'connection': 'keep-alive',\n",
       "   'date': 'Thu, 12 Nov 2020 04:19:59 GMT',\n",
       "   'x-amzn-requestid': '9be03daa-d578-4bc2-8509-9943ced0e83f',\n",
       "   'x-amz-apigw-id': 'V4GtaHSioAMF2dw=',\n",
       "   'x-amzn-trace-id': 'Root=1-5facb7ef-685a1c097a558fd0530df61a',\n",
       "   'x-cache': 'Miss from cloudfront',\n",
       "   'via': '1.1 a8dfbcfd2b9a376324907969cf0f5cdc.cloudfront.net (CloudFront)',\n",
       "   'x-amz-cf-pop': 'HIO50-C2',\n",
       "   'x-amz-cf-id': 'oFKKlW_g_KVhu_US7WABD21jX4Vq3Xl2ZazLuzDkKQYwVt_3GtHGNQ=='},\n",
       "  'RetryAttempts': 0},\n",
       " 'Arn': 'arn:aws:dataexchange:us-east-1::data-sets/d0e9bd6148e8f14889980954017b0927',\n",
       " 'AssetType': 'S3_SNAPSHOT',\n",
       " 'CreatedAt': datetime.datetime(2020, 3, 27, 3, 43, 31, 511000, tzinfo=tzutc()),\n",
       " 'Description': 'Data for 2020, updated weekly. ',\n",
       " 'Id': 'd0e9bd6148e8f14889980954017b0927',\n",
       " 'Name': 'US Imports CBP Automated Manifest System (AMS) Shipments 2020',\n",
       " 'Origin': 'ENTITLED',\n",
       " 'OriginDetails': {'ProductId': 'prod-ejlpbky2zthni'},\n",
       " 'UpdatedAt': datetime.datetime(2020, 9, 29, 20, 15, 11, 737000, tzinfo=tzutc())}"
      ]
     },
     "execution_count": 4,
     "metadata": {},
     "output_type": "execute_result"
    }
   ],
   "source": [
    "dx.get_data_set(DataSetId='d0e9bd6148e8f14889980954017b0927')"
   ]
  },
  {
   "cell_type": "code",
   "execution_count": 5,
   "metadata": {},
   "outputs": [],
   "source": [
    "res = dx.list_data_set_revisions(DataSetId=data_set_id)"
   ]
  },
  {
   "cell_type": "code",
   "execution_count": 6,
   "metadata": {},
   "outputs": [],
   "source": [
    "def get_all_assets(data_set_id, revision_id):\n",
    "    assets = []\n",
    "    res = dx.list_revision_assets(DataSetId=data_set_id,\n",
    "                                  RevisionId=revision_id)\n",
    "    next_token = res.get('NextToken')\n",
    "    \n",
    "    assets += res.get('Assets')\n",
    "    while next_token:\n",
    "        res = dx.list_revision_assets(DataSetId=data_set_id,\n",
    "                                      RevisionId=revision_id,\n",
    "                                      NextToken=next_token)\n",
    "        assets += res.get('Assets')\n",
    "        next_token = res.get('NextToken')\n",
    "        \n",
    "    return assets"
   ]
  },
  {
   "cell_type": "code",
   "execution_count": 7,
   "metadata": {},
   "outputs": [
    {
     "data": {
      "text/plain": [
       "'83bdd5c3225a70b48acff63e86c74193'"
      ]
     },
     "execution_count": 7,
     "metadata": {},
     "output_type": "execute_result"
    }
   ],
   "source": [
    "res['Revisions'][0]['Arn'].split('/')[-1]"
   ]
  },
  {
   "cell_type": "code",
   "execution_count": 8,
   "metadata": {},
   "outputs": [],
   "source": [
    "assets = get_all_assets(data_set_id, res['Revisions'][0]['Arn'].split('/')[-1])"
   ]
  },
  {
   "cell_type": "code",
   "execution_count": 9,
   "metadata": {},
   "outputs": [],
   "source": [
    "def export_assets(assets, bucket):\n",
    "    \n",
    "    asset_destinations = []\n",
    "\n",
    "    for asset in assets:\n",
    "        asset_destinations.append({\n",
    "            \"AssetId\": asset.get('Id'),\n",
    "            \"Bucket\": bucket,\n",
    "            \"Key\": asset.get('Name')\n",
    "        })\n",
    "\n",
    "    job = dx.create_job(Type='EXPORT_ASSETS_TO_S3', Details={\n",
    "        \"ExportAssetsToS3\": {\n",
    "            \"RevisionId\": asset.get(\"RevisionId\"), \"DataSetId\": asset.get(\"DataSetId\"),\n",
    "            \"AssetDestinations\": asset_destinations\n",
    "        }\n",
    "    })\n",
    "\n",
    "    job_id = job.get('Id')\n",
    "    dx.start_job(JobId=job_id)\n",
    "\n",
    "    while True:\n",
    "        job = dx.get_job(JobId=job_id)\n",
    "\n",
    "        if job.get('State') == 'COMPLETED':\n",
    "            break\n",
    "        elif job.get('State') == 'ERROR':\n",
    "            raise Exception(\"Job {} failed to complete - {}\".format(\n",
    "                job_id, job.get('Errors')[0].get('Message'))\n",
    "            )\n",
    "\n",
    "        time.sleep(60)"
   ]
  },
  {
   "cell_type": "code",
   "execution_count": 10,
   "metadata": {},
   "outputs": [],
   "source": [
    "export_assets(assets, 'jacky-data-engineering-us-export')"
   ]
  },
  {
   "cell_type": "code",
   "execution_count": null,
   "metadata": {},
   "outputs": [],
   "source": []
  }
 ],
 "metadata": {
  "kernelspec": {
   "display_name": "Python 3",
   "language": "python",
   "name": "python3"
  },
  "language_info": {
   "codemirror_mode": {
    "name": "ipython",
    "version": 3
   },
   "file_extension": ".py",
   "mimetype": "text/x-python",
   "name": "python",
   "nbconvert_exporter": "python",
   "pygments_lexer": "ipython3",
   "version": "3.7.4"
  }
 },
 "nbformat": 4,
 "nbformat_minor": 4
}
