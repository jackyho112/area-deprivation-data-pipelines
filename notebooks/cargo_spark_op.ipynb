{
 "cells": [
  {
   "cell_type": "code",
   "execution_count": 29,
   "metadata": {},
   "outputs": [],
   "source": [
    "from pyspark.sql import SparkSession\n",
    "from pyspark.sql.types import TimestampType, StructType, StringType, IntegerType, FloatType, StructField\n",
    "from pyspark.sql.functions import lit, concat, col, regexp_replace, collect_list"
   ]
  },
  {
   "cell_type": "code",
   "execution_count": 30,
   "metadata": {},
   "outputs": [],
   "source": [
    "ss = SparkSession \\\n",
    "    .builder \\\n",
    "    .master(\"local[*]\") \\\n",
    "    .appName(\"us_import_sample\") \\\n",
    "    .getOrCreate()"
   ]
  },
  {
   "cell_type": "code",
   "execution_count": 31,
   "metadata": {},
   "outputs": [],
   "source": [
    "cargo_desc_schema = StructType([\n",
    "    StructField(\"identifier\", StringType()),\n",
    "    StructField(\"container_number\", StringType()),\n",
    "    StructField(\"description_sequence_number\", IntegerType()),\n",
    "    StructField(\"piece_count\", IntegerType()),\n",
    "    StructField(\"description_text\", StringType())\n",
    "])"
   ]
  },
  {
   "cell_type": "code",
   "execution_count": 32,
   "metadata": {},
   "outputs": [],
   "source": [
    "cargo_desc = ss.read \\\n",
    "    .option(\"header\", True) \\\n",
    "    .option(\"escape\", '\"') \\\n",
    "    .csv(\n",
    "        './ams/2020/202001201500/ams__cargodesc_2020__202001201500.csv',\n",
    "        schema=cargo_desc_schema\n",
    "    )"
   ]
  },
  {
   "cell_type": "code",
   "execution_count": 33,
   "metadata": {},
   "outputs": [
    {
     "name": "stdout",
     "output_type": "stream",
     "text": [
      "root\n",
      " |-- identifier: string (nullable = true)\n",
      " |-- container_number: string (nullable = true)\n",
      " |-- description_sequence_number: integer (nullable = true)\n",
      " |-- piece_count: integer (nullable = true)\n",
      " |-- description_text: string (nullable = true)\n",
      "\n"
     ]
    }
   ],
   "source": [
    "cargo_desc.printSchema()"
   ]
  },
  {
   "cell_type": "code",
   "execution_count": 34,
   "metadata": {},
   "outputs": [],
   "source": [
    "cargo_desc.createOrReplaceTempView(\"cargo_desc\")"
   ]
  },
  {
   "cell_type": "code",
   "execution_count": 35,
   "metadata": {},
   "outputs": [],
   "source": [
    "hazmat_schema = StructType([\n",
    "    StructField(\"identifier\", StringType()),\n",
    "    StructField(\"container_number\", StringType()),\n",
    "    StructField(\"hazmat_sequence_number\", IntegerType()),\n",
    "    StructField(\"hazmat_code\", StringType()),\n",
    "    StructField(\"hazmat_class\", StringType()),\n",
    "    StructField(\"hazmat_code_qualifier\", StringType()),\n",
    "    StructField(\"hazmat_contact\", StringType()),\n",
    "    StructField(\"hazmat_page_number\", StringType()),\n",
    "    StructField(\"hazmat_flash_point_temperature\", StringType()),\n",
    "    StructField(\"hazmat_flash_point_temperature_negative_ind\", StringType()),\n",
    "    StructField(\"hazmat_flash_point_temperature_unit\", StringType()),\n",
    "    StructField(\"hazmat_description\", StringType())\n",
    "])"
   ]
  },
  {
   "cell_type": "code",
   "execution_count": 36,
   "metadata": {},
   "outputs": [],
   "source": [
    "hazmat = ss.read \\\n",
    "    .option(\"header\", True) \\\n",
    "    .option(\"escape\", '\"') \\\n",
    "    .csv(\n",
    "        './ams/2020/202001201500/ams__hazmat_2020__202001201500.csv',\n",
    "        schema=hazmat_schema\n",
    "    )"
   ]
  },
  {
   "cell_type": "code",
   "execution_count": 37,
   "metadata": {},
   "outputs": [
    {
     "name": "stdout",
     "output_type": "stream",
     "text": [
      "root\n",
      " |-- identifier: string (nullable = true)\n",
      " |-- container_number: string (nullable = true)\n",
      " |-- hazmat_sequence_number: integer (nullable = true)\n",
      " |-- hazmat_code: string (nullable = true)\n",
      " |-- hazmat_class: string (nullable = true)\n",
      " |-- hazmat_code_qualifier: string (nullable = true)\n",
      " |-- hazmat_contact: string (nullable = true)\n",
      " |-- hazmat_page_number: string (nullable = true)\n",
      " |-- hazmat_flash_point_temperature: string (nullable = true)\n",
      " |-- hazmat_flash_point_temperature_negative_ind: string (nullable = true)\n",
      " |-- hazmat_flash_point_temperature_unit: string (nullable = true)\n",
      " |-- hazmat_description: string (nullable = true)\n",
      "\n"
     ]
    }
   ],
   "source": [
    "hazmat.printSchema()"
   ]
  },
  {
   "cell_type": "code",
   "execution_count": 38,
   "metadata": {},
   "outputs": [],
   "source": [
    "hazmat.createOrReplaceTempView(\"hazmat\")"
   ]
  },
  {
   "cell_type": "code",
   "execution_count": 39,
   "metadata": {},
   "outputs": [],
   "source": [
    "hazmat_class_schema = StructType([\n",
    "    StructField(\"identifier\", IntegerType()),\n",
    "    StructField(\"container_number\", StringType()),\n",
    "    StructField(\"hazmat_sequence_number\", IntegerType()),\n",
    "    StructField(\"hazmat_classification\", IntegerType())\n",
    "])"
   ]
  },
  {
   "cell_type": "code",
   "execution_count": 40,
   "metadata": {},
   "outputs": [],
   "source": [
    "hazmat_class = ss.read \\\n",
    "    .option(\"header\", True) \\\n",
    "    .option(\"escape\", '\"') \\\n",
    "    .csv(\n",
    "        './ams/2020/202001201500/ams__hazmatclass_2020__202001201500.csv',\n",
    "        schema=hazmat_class_schema\n",
    "    )"
   ]
  },
  {
   "cell_type": "code",
   "execution_count": 41,
   "metadata": {},
   "outputs": [
    {
     "name": "stdout",
     "output_type": "stream",
     "text": [
      "root\n",
      " |-- identifier: integer (nullable = true)\n",
      " |-- container_number: string (nullable = true)\n",
      " |-- hazmat_sequence_number: integer (nullable = true)\n",
      " |-- hazmat_classification: integer (nullable = true)\n",
      "\n"
     ]
    }
   ],
   "source": [
    "hazmat_class.printSchema()"
   ]
  },
  {
   "cell_type": "code",
   "execution_count": 42,
   "metadata": {},
   "outputs": [],
   "source": [
    "hazmat_class.createOrReplaceTempView(\"hazmat_class\")"
   ]
  },
  {
   "cell_type": "code",
   "execution_count": 43,
   "metadata": {},
   "outputs": [],
   "source": [
    "cargo_table = ss.sql(\"\"\"\n",
    "    SELECT \n",
    "        c.identifier,\n",
    "        c.container_number,\n",
    "        c.description_sequence_number AS sequence_number,\n",
    "        c.piece_count,\n",
    "        c.description_text AS description,\n",
    "        h.hazmat_code,\n",
    "        (CASE \n",
    "            WHEN (h.hazmat_class IS NOT NULL) THEN h.hazmat_class\n",
    "            ELSE hc.hazmat_classification\n",
    "        END) AS hazmat_class,\n",
    "        h.hazmat_code_qualifier,\n",
    "        h.hazmat_contact,\n",
    "        h.hazmat_page_number,\n",
    "        h.hazmat_flash_point_temperature,\n",
    "        h.hazmat_flash_point_temperature_negative_ind,\n",
    "        h.hazmat_flash_point_temperature_unit,\n",
    "        h.hazmat_description\n",
    "    FROM cargo_desc AS c\n",
    "    LEFT JOIN hazmat AS h\n",
    "    ON \n",
    "        c.identifier = h.identifier AND \n",
    "        c.container_number = h.container_number AND \n",
    "        c.description_sequence_number = h.hazmat_sequence_number\n",
    "    LEFT JOIN hazmat_class AS hc\n",
    "    ON\n",
    "        c.identifier = hc.identifier AND \n",
    "        c.container_number = hc.container_number AND \n",
    "        c.description_sequence_number = hc.hazmat_sequence_number\n",
    "\"\"\")"
   ]
  },
  {
   "cell_type": "code",
   "execution_count": 44,
   "metadata": {},
   "outputs": [
    {
     "name": "stdout",
     "output_type": "stream",
     "text": [
      "root\n",
      " |-- identifier: string (nullable = true)\n",
      " |-- container_number: string (nullable = true)\n",
      " |-- sequence_number: integer (nullable = true)\n",
      " |-- piece_count: integer (nullable = true)\n",
      " |-- description: string (nullable = true)\n",
      " |-- hazmat_code: string (nullable = true)\n",
      " |-- hazmat_class: string (nullable = true)\n",
      " |-- hazmat_code_qualifier: string (nullable = true)\n",
      " |-- hazmat_contact: string (nullable = true)\n",
      " |-- hazmat_page_number: string (nullable = true)\n",
      " |-- hazmat_flash_point_temperature: string (nullable = true)\n",
      " |-- hazmat_flash_point_temperature_negative_ind: string (nullable = true)\n",
      " |-- hazmat_flash_point_temperature_unit: string (nullable = true)\n",
      " |-- hazmat_description: string (nullable = true)\n",
      "\n"
     ]
    }
   ],
   "source": [
    "cargo_table.printSchema()"
   ]
  },
  {
   "cell_type": "code",
   "execution_count": null,
   "metadata": {},
   "outputs": [],
   "source": []
  }
 ],
 "metadata": {
  "kernelspec": {
   "display_name": "Python 3",
   "language": "python",
   "name": "python3"
  },
  "language_info": {
   "codemirror_mode": {
    "name": "ipython",
    "version": 3
   },
   "file_extension": ".py",
   "mimetype": "text/x-python",
   "name": "python",
   "nbconvert_exporter": "python",
   "pygments_lexer": "ipython3",
   "version": "3.7.4"
  }
 },
 "nbformat": 4,
 "nbformat_minor": 4
}
