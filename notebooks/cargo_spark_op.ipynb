{
 "cells": [
  {
   "cell_type": "code",
   "execution_count": 10,
   "metadata": {},
   "outputs": [],
   "source": [
    "from pyspark.sql import SparkSession\n",
    "from pyspark.sql.types import TimestampType, StructType, StringType, IntegerType, FloatType, StructField\n",
    "from pyspark.sql.functions import lit, concat, col, regexp_replace, collect_list"
   ]
  },
  {
   "cell_type": "code",
   "execution_count": 11,
   "metadata": {},
   "outputs": [],
   "source": [
    "ss = SparkSession \\\n",
    "    .builder \\\n",
    "    .master(\"local[*]\") \\\n",
    "    .appName(\"us_import_sample\") \\\n",
    "    .getOrCreate()"
   ]
  },
  {
   "cell_type": "code",
   "execution_count": 12,
   "metadata": {},
   "outputs": [],
   "source": [
    "cargo_desc = ss.read \\\n",
    "    .option(\"header\", True) \\\n",
    "    .option(\"escape\", '\"') \\\n",
    "    .option(\"inferSchema\", True) \\\n",
    "    .csv('./ams/2020/202001201500/ams__cargodesc_2020__202001201500.csv')"
   ]
  },
  {
   "cell_type": "code",
   "execution_count": 13,
   "metadata": {},
   "outputs": [
    {
     "name": "stdout",
     "output_type": "stream",
     "text": [
      "root\n",
      " |-- identifier: long (nullable = true)\n",
      " |-- container_number: string (nullable = true)\n",
      " |-- description_sequence_number: integer (nullable = true)\n",
      " |-- piece_count: integer (nullable = true)\n",
      " |-- description_text: string (nullable = true)\n",
      "\n"
     ]
    }
   ],
   "source": [
    "cargo_desc.printSchema()"
   ]
  },
  {
   "cell_type": "code",
   "execution_count": 14,
   "metadata": {},
   "outputs": [],
   "source": [
    "cargo_desc.createOrReplaceTempView(\"cargo_desc\")"
   ]
  },
  {
   "cell_type": "code",
   "execution_count": 15,
   "metadata": {},
   "outputs": [],
   "source": [
    "hazmat = ss.read \\\n",
    "    .option(\"header\", True) \\\n",
    "    .option(\"escape\", '\"') \\\n",
    "    .option(\"inferSchema\", True) \\\n",
    "    .csv('./ams/2020/202001201500/ams__hazmat_2020__202001201500.csv')"
   ]
  },
  {
   "cell_type": "code",
   "execution_count": 16,
   "metadata": {},
   "outputs": [
    {
     "name": "stdout",
     "output_type": "stream",
     "text": [
      "root\n",
      " |-- identifier: long (nullable = true)\n",
      " |-- container_number: string (nullable = true)\n",
      " |-- hazmat_sequence_number: integer (nullable = true)\n",
      " |-- hazmat_code: string (nullable = true)\n",
      " |-- hazmat_class: string (nullable = true)\n",
      " |-- hazmat_code_qualifier: string (nullable = true)\n",
      " |-- hazmat_contact: string (nullable = true)\n",
      " |-- hazmat_page_number: string (nullable = true)\n",
      " |-- hazmat_flash_point_temperature: string (nullable = true)\n",
      " |-- hazmat_flash_point_temperature_negative_ind: string (nullable = true)\n",
      " |-- hazmat_flash_point_temperature_unit: string (nullable = true)\n",
      " |-- hazmat_description: string (nullable = true)\n",
      "\n"
     ]
    }
   ],
   "source": [
    "hazmat.printSchema()"
   ]
  },
  {
   "cell_type": "code",
   "execution_count": 17,
   "metadata": {},
   "outputs": [],
   "source": [
    "hazmat.createOrReplaceTempView(\"hazmat\")"
   ]
  },
  {
   "cell_type": "code",
   "execution_count": 18,
   "metadata": {},
   "outputs": [],
   "source": [
    "hazmat_class = ss.read \\\n",
    "    .option(\"header\", True) \\\n",
    "    .option(\"escape\", '\"') \\\n",
    "    .option(\"inferSchema\", True) \\\n",
    "    .csv('./ams/2020/202001201500/ams__hazmatclass_2020__202001201500.csv')"
   ]
  },
  {
   "cell_type": "code",
   "execution_count": 19,
   "metadata": {},
   "outputs": [
    {
     "name": "stdout",
     "output_type": "stream",
     "text": [
      "root\n",
      " |-- identifier: long (nullable = true)\n",
      " |-- container_number: string (nullable = true)\n",
      " |-- hazmat_sequence_number: integer (nullable = true)\n",
      " |-- hazmat_classification: string (nullable = true)\n",
      "\n"
     ]
    }
   ],
   "source": [
    "hazmat_class.printSchema()"
   ]
  },
  {
   "cell_type": "code",
   "execution_count": 20,
   "metadata": {},
   "outputs": [],
   "source": [
    "hazmat_class.createOrReplaceTempView(\"hazmat_class\")"
   ]
  },
  {
   "cell_type": "code",
   "execution_count": 21,
   "metadata": {},
   "outputs": [],
   "source": [
    "cargo_table = ss.sql(\"\"\"\n",
    "    SELECT \n",
    "        c.identifier,\n",
    "        c.container_number,\n",
    "        c.description_sequence_number AS sequence_number,\n",
    "        c.piece_count,\n",
    "        c.description_text AS description,\n",
    "        h.hazmat_code,\n",
    "        (CASE \n",
    "            WHEN (hc.hazmat_classification IS NOT NULL) THEN hc.hazmat_classification\n",
    "            ELSE h.hazmat_class\n",
    "        END) AS hazmat_class,\n",
    "        h.hazmat_code_qualifier,\n",
    "        h.hazmat_contact,\n",
    "        h.hazmat_page_number,\n",
    "        h.hazmat_flash_point_temperature,\n",
    "        h.hazmat_flash_point_temperature_negative_ind,\n",
    "        h.hazmat_flash_point_temperature_unit,\n",
    "        h.hazmat_description\n",
    "    FROM cargo_desc AS c\n",
    "    LEFT JOIN hazmat AS h\n",
    "    ON \n",
    "        c.identifier = h.identifier AND \n",
    "        c.container_number = h.container_number AND \n",
    "        c.description_sequence_number = h.hazmat_sequence_number\n",
    "    LEFT JOIN hazmat_class AS hc\n",
    "    ON\n",
    "        c.identifier = hc.identifier AND \n",
    "        c.container_number = hc.container_number AND \n",
    "        c.description_sequence_number = hc.hazmat_sequence_number\n",
    "\"\"\")"
   ]
  },
  {
   "cell_type": "code",
   "execution_count": 22,
   "metadata": {},
   "outputs": [
    {
     "name": "stdout",
     "output_type": "stream",
     "text": [
      "root\n",
      " |-- identifier: long (nullable = true)\n",
      " |-- container_number: string (nullable = true)\n",
      " |-- sequence_number: integer (nullable = true)\n",
      " |-- piece_count: integer (nullable = true)\n",
      " |-- description: string (nullable = true)\n",
      " |-- hazmat_code: string (nullable = true)\n",
      " |-- hazmat_class: string (nullable = true)\n",
      " |-- hazmat_code_qualifier: string (nullable = true)\n",
      " |-- hazmat_contact: string (nullable = true)\n",
      " |-- hazmat_page_number: string (nullable = true)\n",
      " |-- hazmat_flash_point_temperature: string (nullable = true)\n",
      " |-- hazmat_flash_point_temperature_negative_ind: string (nullable = true)\n",
      " |-- hazmat_flash_point_temperature_unit: string (nullable = true)\n",
      " |-- hazmat_description: string (nullable = true)\n",
      "\n"
     ]
    }
   ],
   "source": [
    "cargo_table.printSchema()"
   ]
  },
  {
   "cell_type": "code",
   "execution_count": null,
   "metadata": {},
   "outputs": [],
   "source": []
  }
 ],
 "metadata": {
  "kernelspec": {
   "display_name": "Python 3",
   "language": "python",
   "name": "python3"
  },
  "language_info": {
   "codemirror_mode": {
    "name": "ipython",
    "version": 3
   },
   "file_extension": ".py",
   "mimetype": "text/x-python",
   "name": "python",
   "nbconvert_exporter": "python",
   "pygments_lexer": "ipython3",
   "version": "3.7.4"
  }
 },
 "nbformat": 4,
 "nbformat_minor": 4
}
