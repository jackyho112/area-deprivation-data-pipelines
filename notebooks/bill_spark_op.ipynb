{
 "cells": [
  {
   "cell_type": "code",
   "execution_count": 1,
   "metadata": {},
   "outputs": [],
   "source": [
    "from pyspark.sql import SparkSession\n",
    "from pyspark.sql.types import StructType, StructField, StringType"
   ]
  },
  {
   "cell_type": "code",
   "execution_count": 2,
   "metadata": {},
   "outputs": [],
   "source": [
    "ss = SparkSession \\\n",
    "    .builder \\\n",
    "    .master(\"local[*]\") \\\n",
    "    .appName(\"us_import_sample\") \\\n",
    "    .getOrCreate()"
   ]
  },
  {
   "cell_type": "code",
   "execution_count": 3,
   "metadata": {},
   "outputs": [],
   "source": [
    "header_schema = StructType([\n",
    "    StructField(\"identifier\", StringType()),\n",
    "    StructField(\"carrier_code\", StringType()),\n",
    "    StructField(\"vessel_country_code\", StringType()),\n",
    "    StructField(\"vessel_name\", StringType()),\n",
    "    StructField(\"port_of_unlading\", StringType()),\n",
    "    StructField(\"estimated_arrival_date\", StringType()),\n",
    "    StructField(\"foreign_port_of_lading_qualifier\", StringType()),\n",
    "    StructField(\"foreign_port_of_lading\", StringType()),\n",
    "    StructField(\"manifest_quantity\", StringType()),\n",
    "    StructField(\"manifest_unit\", StringType()),\n",
    "    StructField(\"weight\", StringType()),\n",
    "    StructField(\"weight_unit\", StringType()),\n",
    "    StructField(\"record_status_indicator\", StringType()),\n",
    "    StructField(\"place_of_receipt\", StringType()),\n",
    "    StructField(\"port_of_destination\", StringType()),\n",
    "    StructField(\"foreign_port_of_destination_qualifier\", StringType()),\n",
    "    StructField(\"foreign_port_of_destination\", StringType()),\n",
    "    StructField(\"conveyance_id_qualifier\", StringType()),\n",
    "    StructField(\"conveyance_id\", StringType()),\n",
    "    StructField(\"mode_of_transportation\", StringType()),\n",
    "    StructField(\"actual_arrival_date\", StringType())\n",
    "])"
   ]
  },
  {
   "cell_type": "code",
   "execution_count": 4,
   "metadata": {},
   "outputs": [],
   "source": [
    "header_field_names = header_schema.fieldNames()"
   ]
  },
  {
   "cell_type": "code",
   "execution_count": 5,
   "metadata": {},
   "outputs": [],
   "source": [
    "header = ss.read \\\n",
    "    .option(\"header\", True) \\\n",
    "    .option(\"escape\", '\"') \\\n",
    "    .csv('./ams/2020/202001201500/ams__header_2020__202001201500.csv')"
   ]
  },
  {
   "cell_type": "code",
   "execution_count": 6,
   "metadata": {},
   "outputs": [
    {
     "name": "stdout",
     "output_type": "stream",
     "text": [
      "root\n",
      " |-- identifier: string (nullable = true)\n",
      " |-- carrier_code: string (nullable = true)\n",
      " |-- vessel_country_code: string (nullable = true)\n",
      " |-- vessel_name: string (nullable = true)\n",
      " |-- port_of_unlading: string (nullable = true)\n",
      " |-- estimated_arrival_date: string (nullable = true)\n",
      " |-- foreign_port_of_lading_qualifier: string (nullable = true)\n",
      " |-- foreign_port_of_lading: string (nullable = true)\n",
      " |-- manifest_quantity: string (nullable = true)\n",
      " |-- manifest_unit: string (nullable = true)\n",
      " |-- weight: string (nullable = true)\n",
      " |-- weight_unit: string (nullable = true)\n",
      " |-- measurement: string (nullable = true)\n",
      " |-- measurement_unit: string (nullable = true)\n",
      " |-- record_status_indicator: string (nullable = true)\n",
      " |-- place_of_receipt: string (nullable = true)\n",
      " |-- port_of_destination: string (nullable = true)\n",
      " |-- foreign_port_of_destination_qualifier: string (nullable = true)\n",
      " |-- foreign_port_of_destination: string (nullable = true)\n",
      " |-- conveyance_id_qualifier: string (nullable = true)\n",
      " |-- conveyance_id: string (nullable = true)\n",
      " |-- in_bond_entry_type: string (nullable = true)\n",
      " |-- mode_of_transportation: string (nullable = true)\n",
      " |-- secondary_notify_party_1: string (nullable = true)\n",
      " |-- secondary_notify_party_2: string (nullable = true)\n",
      " |-- secondary_notify_party_3: string (nullable = true)\n",
      " |-- secondary_notify_party_4: string (nullable = true)\n",
      " |-- secondary_notify_party_5: string (nullable = true)\n",
      " |-- secondary_notify_party_6: string (nullable = true)\n",
      " |-- secondary_notify_party_7: string (nullable = true)\n",
      " |-- secondary_notify_party_8: string (nullable = true)\n",
      " |-- secondary_notify_party_9: string (nullable = true)\n",
      " |-- secondary_notify_party_10: string (nullable = true)\n",
      " |-- actual_arrival_date: string (nullable = true)\n",
      "\n"
     ]
    }
   ],
   "source": [
    "header.printSchema()"
   ]
  },
  {
   "cell_type": "code",
   "execution_count": 7,
   "metadata": {},
   "outputs": [],
   "source": [
    "new_header = header.select(*header_field_names)"
   ]
  },
  {
   "cell_type": "code",
   "execution_count": 8,
   "metadata": {},
   "outputs": [],
   "source": [
    "bill_schema = StructType([\n",
    "    StructField(\"identifier\", StringType()),\n",
    "    StructField(\"master_bol_number\", StringType()),\n",
    "    StructField(\"house_bol_number\", StringType()),\n",
    "    StructField(\"sub_house_bol_number\", StringType()),\n",
    "    StructField(\"voyage_number\", StringType()),\n",
    "    StructField(\"bill_type_code\", StringType()),\n",
    "    StructField(\"manifest_number\", StringType()),\n",
    "    StructField(\"trade_update_date\", StringType()),\n",
    "    StructField(\"run_date\", StringType())\n",
    "])"
   ]
  },
  {
   "cell_type": "code",
   "execution_count": 9,
   "metadata": {},
   "outputs": [],
   "source": [
    "bill_field_names = bill_schema.fieldNames()"
   ]
  },
  {
   "cell_type": "code",
   "execution_count": 10,
   "metadata": {},
   "outputs": [],
   "source": [
    "bill = ss.read \\\n",
    "    .option(\"header\", True) \\\n",
    "    .option(\"escape\", '\"') \\\n",
    "    .csv('./ams/2020/202001201500/ams__billgen_2020__202001201500.csv')"
   ]
  },
  {
   "cell_type": "code",
   "execution_count": 11,
   "metadata": {},
   "outputs": [],
   "source": [
    "new_bill = bill.select(*bill_field_names)"
   ]
  },
  {
   "cell_type": "code",
   "execution_count": 12,
   "metadata": {},
   "outputs": [],
   "source": [
    "header_full = new_header.join(new_bill, ['identifier'], how='left')"
   ]
  },
  {
   "cell_type": "code",
   "execution_count": 13,
   "metadata": {},
   "outputs": [
    {
     "name": "stdout",
     "output_type": "stream",
     "text": [
      "root\n",
      " |-- identifier: string (nullable = true)\n",
      " |-- carrier_code: string (nullable = true)\n",
      " |-- vessel_country_code: string (nullable = true)\n",
      " |-- vessel_name: string (nullable = true)\n",
      " |-- port_of_unlading: string (nullable = true)\n",
      " |-- estimated_arrival_date: string (nullable = true)\n",
      " |-- foreign_port_of_lading_qualifier: string (nullable = true)\n",
      " |-- foreign_port_of_lading: string (nullable = true)\n",
      " |-- manifest_quantity: string (nullable = true)\n",
      " |-- manifest_unit: string (nullable = true)\n",
      " |-- weight: string (nullable = true)\n",
      " |-- weight_unit: string (nullable = true)\n",
      " |-- record_status_indicator: string (nullable = true)\n",
      " |-- place_of_receipt: string (nullable = true)\n",
      " |-- port_of_destination: string (nullable = true)\n",
      " |-- foreign_port_of_destination_qualifier: string (nullable = true)\n",
      " |-- foreign_port_of_destination: string (nullable = true)\n",
      " |-- conveyance_id_qualifier: string (nullable = true)\n",
      " |-- conveyance_id: string (nullable = true)\n",
      " |-- mode_of_transportation: string (nullable = true)\n",
      " |-- actual_arrival_date: string (nullable = true)\n",
      " |-- master_bol_number: string (nullable = true)\n",
      " |-- house_bol_number: string (nullable = true)\n",
      " |-- sub_house_bol_number: string (nullable = true)\n",
      " |-- voyage_number: string (nullable = true)\n",
      " |-- bill_type_code: string (nullable = true)\n",
      " |-- manifest_number: string (nullable = true)\n",
      " |-- trade_update_date: string (nullable = true)\n",
      " |-- run_date: string (nullable = true)\n",
      "\n"
     ]
    }
   ],
   "source": [
    "header_full.printSchema()"
   ]
  },
  {
   "cell_type": "code",
   "execution_count": null,
   "metadata": {},
   "outputs": [],
   "source": []
  }
 ],
 "metadata": {
  "kernelspec": {
   "display_name": "Python 3",
   "language": "python",
   "name": "python3"
  },
  "language_info": {
   "codemirror_mode": {
    "name": "ipython",
    "version": 3
   },
   "file_extension": ".py",
   "mimetype": "text/x-python",
   "name": "python",
   "nbconvert_exporter": "python",
   "pygments_lexer": "ipython3",
   "version": "3.7.4"
  }
 },
 "nbformat": 4,
 "nbformat_minor": 4
}
