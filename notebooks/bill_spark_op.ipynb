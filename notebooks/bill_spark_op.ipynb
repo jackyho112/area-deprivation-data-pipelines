{
 "cells": [
  {
   "cell_type": "code",
   "execution_count": 17,
   "metadata": {},
   "outputs": [],
   "source": [
    "from pyspark.sql import SparkSession\n",
    "from pyspark.sql.functions import isnull, when, count, col"
   ]
  },
  {
   "cell_type": "code",
   "execution_count": 4,
   "metadata": {},
   "outputs": [],
   "source": [
    "ss = SparkSession \\\n",
    "    .builder \\\n",
    "    .master(\"local[*]\") \\\n",
    "    .appName(\"us_import_sample\") \\\n",
    "    .getOrCreate()"
   ]
  },
  {
   "cell_type": "code",
   "execution_count": 5,
   "metadata": {},
   "outputs": [],
   "source": [
    "kept_header_cols = [\n",
    "    \"identifier\",\n",
    "    \"carrier_code\",\n",
    "    \"vessel_country_code\",\n",
    "    \"vessel_name\",\n",
    "    \"port_of_unlading\",\n",
    "    \"estimated_arrival_date\",\n",
    "    \"foreign_port_of_lading_qualifier\",\n",
    "    \"foreign_port_of_lading\",\n",
    "    \"manifest_quantity\",\n",
    "    \"manifest_unit\",\n",
    "    \"weight\",\n",
    "    \"weight_unit\",\n",
    "    \"record_status_indicator\",\n",
    "    \"place_of_receipt\",\n",
    "    \"port_of_destination\",\n",
    "    \"foreign_port_of_destination_qualifier\",\n",
    "    \"foreign_port_of_destination\",\n",
    "    \"conveyance_id_qualifier\",\n",
    "    \"conveyance_id\",\n",
    "    \"mode_of_transportation\",\n",
    "    \"actual_arrival_date\",\n",
    "]"
   ]
  },
  {
   "cell_type": "code",
   "execution_count": 6,
   "metadata": {},
   "outputs": [],
   "source": [
    "header = ss.read \\\n",
    "    .option(\"header\", True) \\\n",
    "    .option(\"escape\", '\"') \\\n",
    "    .option(\"inferSchema\", True) \\\n",
    "    .csv('./ams/2020/202001201500/ams__header_2020__202001201500.csv')"
   ]
  },
  {
   "cell_type": "code",
   "execution_count": 8,
   "metadata": {},
   "outputs": [],
   "source": [
    "new_header = header.select(*kept_header_cols).where(col('identifier').isNotNull())"
   ]
  },
  {
   "cell_type": "code",
   "execution_count": 9,
   "metadata": {},
   "outputs": [],
   "source": [
    "kept_bill_cols = [\n",
    "    \"identifier\",\n",
    "    \"master_bol_number\",\n",
    "    \"house_bol_number\",\n",
    "    \"sub_house_bol_number\",\n",
    "    \"voyage_number\",\n",
    "    \"bill_type_code\",\n",
    "    \"manifest_number\",\n",
    "    \"trade_update_date\",\n",
    "    \"run_date\"\n",
    "]"
   ]
  },
  {
   "cell_type": "code",
   "execution_count": 10,
   "metadata": {},
   "outputs": [],
   "source": [
    "bill = ss.read \\\n",
    "    .option(\"header\", True) \\\n",
    "    .option(\"escape\", '\"') \\\n",
    "    .option(\"inferSchema\", True) \\\n",
    "    .csv('./ams/2020/202001201500/ams__billgen_2020__202001201500.csv')"
   ]
  },
  {
   "cell_type": "code",
   "execution_count": 11,
   "metadata": {},
   "outputs": [],
   "source": [
    "new_bill = bill.select(*kept_bill_cols)"
   ]
  },
  {
   "cell_type": "code",
   "execution_count": 12,
   "metadata": {},
   "outputs": [],
   "source": [
    "header_full = new_header.join(new_bill, ['identifier'], how='left')"
   ]
  },
  {
   "cell_type": "code",
   "execution_count": 13,
   "metadata": {},
   "outputs": [
    {
     "name": "stdout",
     "output_type": "stream",
     "text": [
      "root\n",
      " |-- identifier: long (nullable = true)\n",
      " |-- carrier_code: string (nullable = true)\n",
      " |-- vessel_country_code: string (nullable = true)\n",
      " |-- vessel_name: string (nullable = true)\n",
      " |-- port_of_unlading: string (nullable = true)\n",
      " |-- estimated_arrival_date: timestamp (nullable = true)\n",
      " |-- foreign_port_of_lading_qualifier: string (nullable = true)\n",
      " |-- foreign_port_of_lading: string (nullable = true)\n",
      " |-- manifest_quantity: integer (nullable = true)\n",
      " |-- manifest_unit: string (nullable = true)\n",
      " |-- weight: long (nullable = true)\n",
      " |-- weight_unit: string (nullable = true)\n",
      " |-- record_status_indicator: string (nullable = true)\n",
      " |-- place_of_receipt: string (nullable = true)\n",
      " |-- port_of_destination: string (nullable = true)\n",
      " |-- foreign_port_of_destination_qualifier: string (nullable = true)\n",
      " |-- foreign_port_of_destination: string (nullable = true)\n",
      " |-- conveyance_id_qualifier: string (nullable = true)\n",
      " |-- conveyance_id: string (nullable = true)\n",
      " |-- mode_of_transportation: string (nullable = true)\n",
      " |-- actual_arrival_date: timestamp (nullable = true)\n",
      " |-- master_bol_number: string (nullable = true)\n",
      " |-- house_bol_number: string (nullable = true)\n",
      " |-- sub_house_bol_number: string (nullable = true)\n",
      " |-- voyage_number: string (nullable = true)\n",
      " |-- bill_type_code: string (nullable = true)\n",
      " |-- manifest_number: integer (nullable = true)\n",
      " |-- trade_update_date: timestamp (nullable = true)\n",
      " |-- run_date: timestamp (nullable = true)\n",
      "\n"
     ]
    }
   ],
   "source": [
    "header_full.printSchema() # fact table"
   ]
  },
  {
   "cell_type": "code",
   "execution_count": 14,
   "metadata": {},
   "outputs": [
    {
     "data": {
      "text/plain": [
       "986077"
      ]
     },
     "execution_count": 14,
     "metadata": {},
     "output_type": "execute_result"
    }
   ],
   "source": [
    "header_full.count()"
   ]
  },
  {
   "cell_type": "code",
   "execution_count": 19,
   "metadata": {},
   "outputs": [],
   "source": [
    "row = header_full.select([\n",
    "    count(when(isnull(col('identifier')), col('identifier'))).alias('identifier_null_count')\n",
    "]).collect()[0]"
   ]
  },
  {
   "cell_type": "code",
   "execution_count": 20,
   "metadata": {},
   "outputs": [
    {
     "data": {
      "text/plain": [
       "Row(identifier_null_count=0)"
      ]
     },
     "execution_count": 20,
     "metadata": {},
     "output_type": "execute_result"
    }
   ],
   "source": [
    "row"
   ]
  },
  {
   "cell_type": "code",
   "execution_count": null,
   "metadata": {},
   "outputs": [],
   "source": []
  }
 ],
 "metadata": {
  "kernelspec": {
   "display_name": "Python 3",
   "language": "python",
   "name": "python3"
  },
  "language_info": {
   "codemirror_mode": {
    "name": "ipython",
    "version": 3
   },
   "file_extension": ".py",
   "mimetype": "text/x-python",
   "name": "python",
   "nbconvert_exporter": "python",
   "pygments_lexer": "ipython3",
   "version": "3.7.4"
  }
 },
 "nbformat": 4,
 "nbformat_minor": 4
}
