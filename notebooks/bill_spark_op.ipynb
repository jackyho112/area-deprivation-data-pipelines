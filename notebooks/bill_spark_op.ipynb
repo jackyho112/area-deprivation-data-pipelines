{
 "cells": [
  {
   "cell_type": "code",
   "execution_count": 4,
   "metadata": {},
   "outputs": [],
   "source": [
    "from pyspark.sql import SparkSession\n",
    "from pyspark.sql.types import TimestampType, StructType, StringType, IntegerType, FloatType, StructField, DateType\n",
    "from pyspark.sql.functions import lit"
   ]
  },
  {
   "cell_type": "code",
   "execution_count": 5,
   "metadata": {},
   "outputs": [],
   "source": [
    "ss = SparkSession \\\n",
    "    .builder \\\n",
    "    .master(\"local[*]\") \\\n",
    "    .appName(\"us_import_sample\") \\\n",
    "    .getOrCreate()"
   ]
  },
  {
   "cell_type": "code",
   "execution_count": 6,
   "metadata": {},
   "outputs": [],
   "source": [
    "header_schema = StructType([\n",
    "    StructField(\"identifier\", StringType()),\n",
    "    StructField(\"carrier_code\", StringType()),\n",
    "    StructField(\"vessel_country_code\", StringType()),\n",
    "    StructField(\"vessel_name\", StringType()),\n",
    "    StructField(\"port_of_unlading\", StringType()),\n",
    "    StructField(\"estimated_arrival_date\", DateType()),\n",
    "    StructField(\"foreign_port_of_lading_qualifier\", StringType()),\n",
    "    StructField(\"foreign_port_of_lading\", StringType()),\n",
    "    StructField(\"manifest_quantity\", IntegerType()),\n",
    "    StructField(\"manifest_unit\", StringType()),\n",
    "    StructField(\"weight\", IntegerType()),\n",
    "    StructField(\"weight_unit\", StringType()),\n",
    "    StructField(\"record_status_indicator\", StringType()),\n",
    "    StructField(\"place_of_receipt\", StringType()),\n",
    "    StructField(\"port_of_destination\", StringType()),\n",
    "    StructField(\"foreign_port_of_destination_qualifier\", StringType()),\n",
    "    StructField(\"foreign_port_of_destination\", StringType()),\n",
    "    StructField(\"conveyance_id_qualifier\", StringType()),\n",
    "    StructField(\"conveyance_id\", StringType()),\n",
    "    StructField(\"mode_of_transportation\", StringType()),\n",
    "    StructField(\"actual_arrival_date\", DateType())\n",
    "])"
   ]
  },
  {
   "cell_type": "code",
   "execution_count": 8,
   "metadata": {},
   "outputs": [],
   "source": [
    "header = ss.read \\\n",
    "    .option(\"header\", True) \\\n",
    "    .option(\"escape\", '\"') \\\n",
    "    .csv(\n",
    "        './ams/2020/202001201500/ams__header_2020__202001201500.csv', \n",
    "        schema=header_schema\n",
    "    )"
   ]
  },
  {
   "cell_type": "code",
   "execution_count": 9,
   "metadata": {},
   "outputs": [
    {
     "name": "stdout",
     "output_type": "stream",
     "text": [
      "root\n",
      " |-- identifier: string (nullable = true)\n",
      " |-- carrier_code: string (nullable = true)\n",
      " |-- vessel_country_code: string (nullable = true)\n",
      " |-- vessel_name: string (nullable = true)\n",
      " |-- port_of_unlading: string (nullable = true)\n",
      " |-- estimated_arrival_date: date (nullable = true)\n",
      " |-- foreign_port_of_lading_qualifier: string (nullable = true)\n",
      " |-- foreign_port_of_lading: string (nullable = true)\n",
      " |-- manifest_quantity: integer (nullable = true)\n",
      " |-- manifest_unit: string (nullable = true)\n",
      " |-- weight: integer (nullable = true)\n",
      " |-- weight_unit: string (nullable = true)\n",
      " |-- record_status_indicator: string (nullable = true)\n",
      " |-- place_of_receipt: string (nullable = true)\n",
      " |-- port_of_destination: string (nullable = true)\n",
      " |-- foreign_port_of_destination_qualifier: string (nullable = true)\n",
      " |-- foreign_port_of_destination: string (nullable = true)\n",
      " |-- conveyance_id_qualifier: string (nullable = true)\n",
      " |-- conveyance_id: string (nullable = true)\n",
      " |-- mode_of_transportation: string (nullable = true)\n",
      " |-- actual_arrival_date: date (nullable = true)\n",
      "\n"
     ]
    }
   ],
   "source": [
    "header.printSchema()"
   ]
  },
  {
   "cell_type": "code",
   "execution_count": null,
   "metadata": {},
   "outputs": [],
   "source": []
  }
 ],
 "metadata": {
  "kernelspec": {
   "display_name": "Python 3",
   "language": "python",
   "name": "python3"
  },
  "language_info": {
   "codemirror_mode": {
    "name": "ipython",
    "version": 3
   },
   "file_extension": ".py",
   "mimetype": "text/x-python",
   "name": "python",
   "nbconvert_exporter": "python",
   "pygments_lexer": "ipython3",
   "version": "3.7.4"
  }
 },
 "nbformat": 4,
 "nbformat_minor": 4
}
