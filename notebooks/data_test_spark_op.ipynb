{
 "cells": [
  {
   "cell_type": "code",
   "execution_count": 8,
   "metadata": {},
   "outputs": [],
   "source": [
    "from pyspark.sql import SparkSession\n",
    "from pyspark.sql.functions import isnull, when, count, col"
   ]
  },
  {
   "cell_type": "code",
   "execution_count": 9,
   "metadata": {},
   "outputs": [],
   "source": [
    "ss = SparkSession \\\n",
    "    .builder \\\n",
    "    .master(\"local[*]\") \\\n",
    "    .appName(\"us_import_sample\") \\\n",
    "    .getOrCreate()"
   ]
  },
  {
   "cell_type": "code",
   "execution_count": 10,
   "metadata": {},
   "outputs": [],
   "source": [
    "contact = ss.read \\\n",
    "    .option(\"header\", True) \\\n",
    "    .option(\"escape\", '\"') \\\n",
    "    .option(\"inferSchema\", True) \\\n",
    "    .csv('../output/contact/*.csv')"
   ]
  },
  {
   "cell_type": "code",
   "execution_count": 11,
   "metadata": {},
   "outputs": [
    {
     "name": "stdout",
     "output_type": "stream",
     "text": [
      "root\n",
      " |-- identifier: long (nullable = true)\n",
      " |-- name: string (nullable = true)\n",
      " |-- address_1: string (nullable = true)\n",
      " |-- address_2: string (nullable = true)\n",
      " |-- address_3: string (nullable = true)\n",
      " |-- address_4: string (nullable = true)\n",
      " |-- city: string (nullable = true)\n",
      " |-- state_province: string (nullable = true)\n",
      " |-- zip_code: string (nullable = true)\n",
      " |-- country_code: string (nullable = true)\n",
      " |-- contact_name: string (nullable = true)\n",
      " |-- comm_number_qualifier: string (nullable = true)\n",
      " |-- comm_number: string (nullable = true)\n",
      " |-- contact_type: string (nullable = true)\n",
      "\n"
     ]
    }
   ],
   "source": [
    "contact.printSchema()"
   ]
  },
  {
   "cell_type": "code",
   "execution_count": 12,
   "metadata": {},
   "outputs": [
    {
     "data": {
      "text/plain": [
       "2252830"
      ]
     },
     "execution_count": 12,
     "metadata": {},
     "output_type": "execute_result"
    }
   ],
   "source": [
    "# Could check count\n",
    "contact.count()"
   ]
  },
  {
   "cell_type": "code",
   "execution_count": 34,
   "metadata": {},
   "outputs": [],
   "source": [
    "row = contact.select([\n",
    "    count(when(isnull(col('contact_type')), col('contact_type'))).alias('contact_type_null_count'),\n",
    "    count(when(isnull(col('identifier')), col('identifier'))).alias('identifier_null_count')\n",
    "]).collect()[0]"
   ]
  },
  {
   "cell_type": "code",
   "execution_count": 35,
   "metadata": {},
   "outputs": [
    {
     "data": {
      "text/plain": [
       "Row(contact_type_null_count=0, identifier_null_count=0)"
      ]
     },
     "execution_count": 35,
     "metadata": {},
     "output_type": "execute_result"
    }
   ],
   "source": [
    "row"
   ]
  },
  {
   "cell_type": "code",
   "execution_count": null,
   "metadata": {},
   "outputs": [],
   "source": []
  }
 ],
 "metadata": {
  "kernelspec": {
   "display_name": "Python 3",
   "language": "python",
   "name": "python3"
  },
  "language_info": {
   "codemirror_mode": {
    "name": "ipython",
    "version": 3
   },
   "file_extension": ".py",
   "mimetype": "text/x-python",
   "name": "python",
   "nbconvert_exporter": "python",
   "pygments_lexer": "ipython3",
   "version": "3.7.4"
  }
 },
 "nbformat": 4,
 "nbformat_minor": 4
}
