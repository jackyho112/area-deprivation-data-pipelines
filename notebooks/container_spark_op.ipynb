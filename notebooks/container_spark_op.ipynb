{
 "cells": [
  {
   "cell_type": "code",
   "execution_count": 59,
   "metadata": {},
   "outputs": [],
   "source": [
    "from pyspark.sql import SparkSession\n",
    "from pyspark.sql.types import TimestampType, StructType, StringType, IntegerType, FloatType, StructField\n",
    "from pyspark.sql.functions import lit, concat, col, regexp_replace"
   ]
  },
  {
   "cell_type": "code",
   "execution_count": 31,
   "metadata": {},
   "outputs": [],
   "source": [
    "ss = SparkSession \\\n",
    "    .builder \\\n",
    "    .master(\"local[*]\") \\\n",
    "    .appName(\"us_import_sample\") \\\n",
    "    .getOrCreate()"
   ]
  },
  {
   "cell_type": "code",
   "execution_count": 32,
   "metadata": {},
   "outputs": [],
   "source": [
    "cargo_desc_schema = StructType([\n",
    "    StructField(\"identifier\", StringType()),\n",
    "    StructField(\"name\", StringType()),\n",
    "    StructField(\"description_sequence_number\", IntegerType()),\n",
    "    StructField(\"piece_count\", IntegerType()),\n",
    "    StructField(\"description_text\", StringType())\n",
    "])"
   ]
  },
  {
   "cell_type": "code",
   "execution_count": 33,
   "metadata": {},
   "outputs": [],
   "source": [
    "cargo_desc = ss.read \\\n",
    "    .option(\"header\", True) \\\n",
    "    .option(\"escape\", '\"') \\\n",
    "    .csv(\n",
    "        './ams/2020/202001201500/ams__cargodesc_2020__202001201500.csv',\n",
    "        schema=cargo_desc_schema\n",
    "    )"
   ]
  },
  {
   "cell_type": "code",
   "execution_count": 34,
   "metadata": {},
   "outputs": [
    {
     "name": "stdout",
     "output_type": "stream",
     "text": [
      "root\n",
      " |-- identifier: string (nullable = true)\n",
      " |-- name: string (nullable = true)\n",
      " |-- description_sequence_number: integer (nullable = true)\n",
      " |-- piece_count: integer (nullable = true)\n",
      " |-- description_text: string (nullable = true)\n",
      "\n"
     ]
    }
   ],
   "source": [
    "cargo_desc.printSchema()"
   ]
  },
  {
   "cell_type": "code",
   "execution_count": 35,
   "metadata": {},
   "outputs": [
    {
     "name": "stdout",
     "output_type": "stream",
     "text": [
      "+-----------+\n",
      "|piece_count|\n",
      "+-----------+\n",
      "|         18|\n",
      "|         16|\n",
      "|       null|\n",
      "|          9|\n",
      "|         19|\n",
      "|       null|\n",
      "|        242|\n",
      "|        317|\n",
      "|        666|\n",
      "|          0|\n",
      "+-----------+\n",
      "only showing top 10 rows\n",
      "\n"
     ]
    }
   ],
   "source": [
    "cargo_desc.select('piece_count').show(10)"
   ]
  },
  {
   "cell_type": "code",
   "execution_count": 50,
   "metadata": {},
   "outputs": [],
   "source": [
    "cargo_desc = cargo_desc.withColumn(\"piece_count_str\", col(\"piece_count\").cast('string'))"
   ]
  },
  {
   "cell_type": "code",
   "execution_count": 51,
   "metadata": {},
   "outputs": [
    {
     "name": "stdout",
     "output_type": "stream",
     "text": [
      "+---------------+\n",
      "|piece_count_str|\n",
      "+---------------+\n",
      "|             18|\n",
      "|             16|\n",
      "|           null|\n",
      "|              9|\n",
      "|             19|\n",
      "|           null|\n",
      "|            242|\n",
      "|            317|\n",
      "|            666|\n",
      "|              0|\n",
      "+---------------+\n",
      "only showing top 10 rows\n",
      "\n"
     ]
    }
   ],
   "source": [
    "cargo_desc.select('piece_count_str').show(10)"
   ]
  },
  {
   "cell_type": "code",
   "execution_count": 52,
   "metadata": {},
   "outputs": [],
   "source": [
    "cargo_desc = cargo_desc.withColumn(\"piece_count_str\", concat(col('piece_count_str'), lit(' ')))"
   ]
  },
  {
   "cell_type": "code",
   "execution_count": 53,
   "metadata": {},
   "outputs": [
    {
     "name": "stdout",
     "output_type": "stream",
     "text": [
      "+---------------+\n",
      "|piece_count_str|\n",
      "+---------------+\n",
      "|            18 |\n",
      "|            16 |\n",
      "|           null|\n",
      "|             9 |\n",
      "|            19 |\n",
      "|           null|\n",
      "|           242 |\n",
      "|           317 |\n",
      "|           666 |\n",
      "|             0 |\n",
      "+---------------+\n",
      "only showing top 10 rows\n",
      "\n"
     ]
    }
   ],
   "source": [
    "cargo_desc.select('piece_count_str').show(10)"
   ]
  },
  {
   "cell_type": "code",
   "execution_count": 54,
   "metadata": {},
   "outputs": [],
   "source": [
    "cargo_desc = cargo_desc.na.fill({'piece_count_str': ''})"
   ]
  },
  {
   "cell_type": "code",
   "execution_count": 55,
   "metadata": {},
   "outputs": [
    {
     "name": "stdout",
     "output_type": "stream",
     "text": [
      "+---------------+\n",
      "|piece_count_str|\n",
      "+---------------+\n",
      "|            18 |\n",
      "|            16 |\n",
      "|               |\n",
      "|             9 |\n",
      "|            19 |\n",
      "|               |\n",
      "|           242 |\n",
      "|           317 |\n",
      "|           666 |\n",
      "|             0 |\n",
      "+---------------+\n",
      "only showing top 10 rows\n",
      "\n"
     ]
    }
   ],
   "source": [
    "cargo_desc.select('piece_count_str').show(10)"
   ]
  },
  {
   "cell_type": "code",
   "execution_count": 56,
   "metadata": {},
   "outputs": [],
   "source": [
    "cargo_desc = cargo_desc.withColumn(\n",
    "    \"full_description_text\", \n",
    "    concat(cargo_desc['piece_count_str'], cargo_desc['description_text'])\n",
    ")"
   ]
  },
  {
   "cell_type": "code",
   "execution_count": 57,
   "metadata": {},
   "outputs": [
    {
     "name": "stdout",
     "output_type": "stream",
     "text": [
      "+---------------------+\n",
      "|full_description_text|\n",
      "+---------------------+\n",
      "|           18 ANTENNA|\n",
      "|           16 ANTENNA|\n",
      "| DECORATIVE TERRAC...|\n",
      "| 9 CHRISTMAS ORNAM...|\n",
      "| 19 DECORATIVE HAN...|\n",
      "|            WOOD BOWL|\n",
      "| 242 WOOD BARSTOOL...|\n",
      "| 317 HAMPER SEAGRA...|\n",
      "|         666 PU BELTS|\n",
      "| 0 ENGINEERED FLOO...|\n",
      "+---------------------+\n",
      "only showing top 10 rows\n",
      "\n"
     ]
    }
   ],
   "source": [
    "cargo_desc.select('full_description_text').show(10)"
   ]
  },
  {
   "cell_type": "code",
   "execution_count": 60,
   "metadata": {},
   "outputs": [],
   "source": [
    "cargo_desc = cargo_desc.withColumn(\n",
    "    \"full_description_text\",\n",
    "    regexp_replace(col('full_description_text'), '^\\s+|\\s+$', '')\n",
    ")"
   ]
  },
  {
   "cell_type": "code",
   "execution_count": 61,
   "metadata": {},
   "outputs": [
    {
     "name": "stdout",
     "output_type": "stream",
     "text": [
      "+---------------------+\n",
      "|full_description_text|\n",
      "+---------------------+\n",
      "|           18 ANTENNA|\n",
      "|           16 ANTENNA|\n",
      "| DECORATIVE TERRAC...|\n",
      "| 9 CHRISTMAS ORNAM...|\n",
      "| 19 DECORATIVE HAN...|\n",
      "|            WOOD BOWL|\n",
      "| 242 WOOD BARSTOOL...|\n",
      "| 317 HAMPER SEAGRA...|\n",
      "|         666 PU BELTS|\n",
      "| 0 ENGINEERED FLOO...|\n",
      "+---------------------+\n",
      "only showing top 10 rows\n",
      "\n"
     ]
    }
   ],
   "source": [
    "cargo_desc.select('full_description_text').show(10)"
   ]
  },
  {
   "cell_type": "code",
   "execution_count": null,
   "metadata": {},
   "outputs": [],
   "source": []
  }
 ],
 "metadata": {
  "kernelspec": {
   "display_name": "Python 3",
   "language": "python",
   "name": "python3"
  },
  "language_info": {
   "codemirror_mode": {
    "name": "ipython",
    "version": 3
   },
   "file_extension": ".py",
   "mimetype": "text/x-python",
   "name": "python",
   "nbconvert_exporter": "python",
   "pygments_lexer": "ipython3",
   "version": "3.7.4"
  }
 },
 "nbformat": 4,
 "nbformat_minor": 4
}
