{
 "cells": [
  {
   "cell_type": "code",
   "execution_count": 1,
   "metadata": {},
   "outputs": [],
   "source": [
    "from pyspark.sql import SparkSession\n",
    "from pyspark.sql.types import StructType, StructField, StringType"
   ]
  },
  {
   "cell_type": "code",
   "execution_count": 2,
   "metadata": {},
   "outputs": [],
   "source": [
    "ss = SparkSession \\\n",
    "    .builder \\\n",
    "    .master(\"local[*]\") \\\n",
    "    .appName(\"us_import_sample\") \\\n",
    "    .getOrCreate()"
   ]
  },
  {
   "cell_type": "code",
   "execution_count": 3,
   "metadata": {},
   "outputs": [],
   "source": [
    "container_schema = StructType([\n",
    "    StructField(\"identifier\", StringType()),\n",
    "    StructField(\"container_number\", StringType()),\n",
    "    StructField(\"equipment_description_code\", StringType()),\n",
    "    StructField(\"container_length\", StringType()),\n",
    "    StructField(\"container_height\", StringType()),\n",
    "    StructField(\"container_width\", StringType()),\n",
    "    StructField(\"container_type\", StringType()),\n",
    "    StructField(\"load_status\", StringType()),\n",
    "    StructField(\"type_of_service\", StringType())\n",
    "])"
   ]
  },
  {
   "cell_type": "code",
   "execution_count": 5,
   "metadata": {},
   "outputs": [],
   "source": [
    "container = ss.read \\\n",
    "    .option(\"header\", True) \\\n",
    "    .option(\"escape\", '\"') \\\n",
    "    .csv('./ams/2020/202001201500/ams__container_2020__202001201500.csv') \\\n",
    "    .select(*container_schema.fieldNames())"
   ]
  },
  {
   "cell_type": "code",
   "execution_count": 6,
   "metadata": {},
   "outputs": [
    {
     "name": "stdout",
     "output_type": "stream",
     "text": [
      "+---------------+\n",
      "|type_of_service|\n",
      "+---------------+\n",
      "|   Pier to Pier|\n",
      "|   Pier to Pier|\n",
      "| House to House|\n",
      "| House to House|\n",
      "| House to House|\n",
      "|   Pier to Pier|\n",
      "|   Pier to Pier|\n",
      "|   Pier to Pier|\n",
      "|   Pier to Pier|\n",
      "|   Pier to Pier|\n",
      "|  Pier to House|\n",
      "| Container Yard|\n",
      "|           null|\n",
      "|           null|\n",
      "|           null|\n",
      "|           null|\n",
      "|           null|\n",
      "|   Pier to Pier|\n",
      "|   Pier to Pier|\n",
      "|   Pier to Pier|\n",
      "+---------------+\n",
      "only showing top 20 rows\n",
      "\n"
     ]
    }
   ],
   "source": [
    "container.select('type_of_service').show()"
   ]
  },
  {
   "cell_type": "code",
   "execution_count": 7,
   "metadata": {},
   "outputs": [],
   "source": [
    "marker = ss.read \\\n",
    "    .option(\"header\", True) \\\n",
    "    .option(\"escape\", '\"') \\\n",
    "    .csv('./ams/2020/202001201500/ams__marksnumbers_2020__202001201500.csv') \\"
   ]
  },
  {
   "cell_type": "code",
   "execution_count": 10,
   "metadata": {},
   "outputs": [
    {
     "name": "stdout",
     "output_type": "stream",
     "text": [
      "+-------------------+\n",
      "|marks_and_numbers_1|\n",
      "+-------------------+\n",
      "|           NO MARKS|\n",
      "|           NO MARKS|\n",
      "|              SKU#:|\n",
      "|               QTY:|\n",
      "|               DES:|\n",
      "|        PHILIPPINES|\n",
      "|       WEIGHT: 3.75|\n",
      "|          BABY BEAR|\n",
      "|               BARN|\n",
      "|                KGS|\n",
      "|        20991407PBR|\n",
      "|       FRANCISCO CA|\n",
      "|            9285948|\n",
      "|        MADE IN THE|\n",
      "|         335 OF 409|\n",
      "|          MOUSE/GFT|\n",
      "|               BARN|\n",
      "|               KGS.|\n",
      "|                ART|\n",
      "|            WEIGHT:|\n",
      "+-------------------+\n",
      "only showing top 20 rows\n",
      "\n"
     ]
    }
   ],
   "source": [
    "marker.select('marks_and_numbers_1').show()"
   ]
  },
  {
   "cell_type": "code",
   "execution_count": 11,
   "metadata": {},
   "outputs": [
    {
     "name": "stdout",
     "output_type": "stream",
     "text": [
      "root\n",
      " |-- identifier: string (nullable = true)\n",
      " |-- container_number: string (nullable = true)\n",
      " |-- marks_and_numbers_1: string (nullable = true)\n",
      " |-- marks_and_numbers_2: string (nullable = true)\n",
      " |-- marks_and_numbers_3: string (nullable = true)\n",
      " |-- marks_and_numbers_4: string (nullable = true)\n",
      " |-- marks_and_numbers_5: string (nullable = true)\n",
      " |-- marks_and_numbers_6: string (nullable = true)\n",
      " |-- marks_and_numbers_7: string (nullable = true)\n",
      " |-- marks_and_numbers_8: string (nullable = true)\n",
      "\n"
     ]
    }
   ],
   "source": [
    "marker.printSchema()"
   ]
  },
  {
   "cell_type": "code",
   "execution_count": 15,
   "metadata": {},
   "outputs": [],
   "source": [
    "container_full = container.join(marker, ['identifier', 'container_number'], how='left')"
   ]
  },
  {
   "cell_type": "code",
   "execution_count": null,
   "metadata": {},
   "outputs": [],
   "source": []
  }
 ],
 "metadata": {
  "kernelspec": {
   "display_name": "Python 3",
   "language": "python",
   "name": "python3"
  },
  "language_info": {
   "codemirror_mode": {
    "name": "ipython",
    "version": 3
   },
   "file_extension": ".py",
   "mimetype": "text/x-python",
   "name": "python",
   "nbconvert_exporter": "python",
   "pygments_lexer": "ipython3",
   "version": "3.7.4"
  }
 },
 "nbformat": 4,
 "nbformat_minor": 4
}
