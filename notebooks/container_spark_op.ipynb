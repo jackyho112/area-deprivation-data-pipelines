{
 "cells": [
  {
   "cell_type": "code",
   "execution_count": 3,
   "metadata": {},
   "outputs": [],
   "source": [
    "from pyspark.sql import SparkSession\n",
    "from pyspark.sql.types import StructType, StructField, StringType"
   ]
  },
  {
   "cell_type": "code",
   "execution_count": 4,
   "metadata": {},
   "outputs": [],
   "source": [
    "ss = SparkSession \\\n",
    "    .builder \\\n",
    "    .master(\"local[*]\") \\\n",
    "    .appName(\"us_import_sample\") \\\n",
    "    .getOrCreate()"
   ]
  },
  {
   "cell_type": "code",
   "execution_count": 5,
   "metadata": {},
   "outputs": [],
   "source": [
    "container_cols = [\n",
    "    \"identifier\",\n",
    "    \"container_number\",\n",
    "    \"equipment_description_code\",\n",
    "    \"container_length\",\n",
    "    \"container_height\",\n",
    "    \"container_width\",\n",
    "    \"container_type\",\n",
    "    \"load_status\",\n",
    "    \"type_of_service\" \n",
    "]"
   ]
  },
  {
   "cell_type": "code",
   "execution_count": 6,
   "metadata": {},
   "outputs": [],
   "source": [
    "container = ss.read \\\n",
    "    .option(\"header\", True) \\\n",
    "    .option(\"escape\", '\"') \\\n",
    "    .option(\"inferSchema\", True) \\\n",
    "    .csv('./ams/2020/202001201500/ams__container_2020__202001201500.csv') \\\n",
    "    .select(*container_cols)"
   ]
  },
  {
   "cell_type": "code",
   "execution_count": 7,
   "metadata": {},
   "outputs": [],
   "source": [
    "marker = ss.read \\\n",
    "    .option(\"header\", True) \\\n",
    "    .option(\"escape\", '\"') \\\n",
    "    .option(\"inferSchema\", True) \\\n",
    "    .csv('./ams/2020/202001201500/ams__marksnumbers_2020__202001201500.csv') \\"
   ]
  },
  {
   "cell_type": "code",
   "execution_count": 8,
   "metadata": {},
   "outputs": [
    {
     "name": "stdout",
     "output_type": "stream",
     "text": [
      "root\n",
      " |-- identifier: long (nullable = true)\n",
      " |-- container_number: string (nullable = true)\n",
      " |-- marks_and_numbers_1: string (nullable = true)\n",
      " |-- marks_and_numbers_2: string (nullable = true)\n",
      " |-- marks_and_numbers_3: string (nullable = true)\n",
      " |-- marks_and_numbers_4: string (nullable = true)\n",
      " |-- marks_and_numbers_5: string (nullable = true)\n",
      " |-- marks_and_numbers_6: string (nullable = true)\n",
      " |-- marks_and_numbers_7: string (nullable = true)\n",
      " |-- marks_and_numbers_8: string (nullable = true)\n",
      "\n"
     ]
    }
   ],
   "source": [
    "marker.printSchema()"
   ]
  },
  {
   "cell_type": "code",
   "execution_count": 9,
   "metadata": {},
   "outputs": [],
   "source": [
    "container_full = container.join(marker, ['identifier', 'container_number'], how='left')"
   ]
  },
  {
   "cell_type": "code",
   "execution_count": 10,
   "metadata": {},
   "outputs": [
    {
     "name": "stdout",
     "output_type": "stream",
     "text": [
      "root\n",
      " |-- identifier: long (nullable = true)\n",
      " |-- container_number: string (nullable = true)\n",
      " |-- equipment_description_code: string (nullable = true)\n",
      " |-- container_length: integer (nullable = true)\n",
      " |-- container_height: integer (nullable = true)\n",
      " |-- container_width: integer (nullable = true)\n",
      " |-- container_type: string (nullable = true)\n",
      " |-- load_status: string (nullable = true)\n",
      " |-- type_of_service: string (nullable = true)\n",
      " |-- marks_and_numbers_1: string (nullable = true)\n",
      " |-- marks_and_numbers_2: string (nullable = true)\n",
      " |-- marks_and_numbers_3: string (nullable = true)\n",
      " |-- marks_and_numbers_4: string (nullable = true)\n",
      " |-- marks_and_numbers_5: string (nullable = true)\n",
      " |-- marks_and_numbers_6: string (nullable = true)\n",
      " |-- marks_and_numbers_7: string (nullable = true)\n",
      " |-- marks_and_numbers_8: string (nullable = true)\n",
      "\n"
     ]
    }
   ],
   "source": [
    "container_full.printSchema()"
   ]
  },
  {
   "cell_type": "code",
   "execution_count": null,
   "metadata": {},
   "outputs": [],
   "source": []
  }
 ],
 "metadata": {
  "kernelspec": {
   "display_name": "Python 3",
   "language": "python",
   "name": "python3"
  },
  "language_info": {
   "codemirror_mode": {
    "name": "ipython",
    "version": 3
   },
   "file_extension": ".py",
   "mimetype": "text/x-python",
   "name": "python",
   "nbconvert_exporter": "python",
   "pygments_lexer": "ipython3",
   "version": "3.7.4"
  }
 },
 "nbformat": 4,
 "nbformat_minor": 4
}
