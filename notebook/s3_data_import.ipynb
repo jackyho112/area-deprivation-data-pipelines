{
 "cells": [
  {
   "cell_type": "code",
   "execution_count": 1,
   "metadata": {},
   "outputs": [],
   "source": [
    "# https://boto3.amazonaws.com/v1/documentation/api/latest/guide/quickstart.html\n",
    "import boto3 \n",
    "import os"
   ]
  },
  {
   "cell_type": "code",
   "execution_count": 2,
   "metadata": {},
   "outputs": [],
   "source": [
    "# https://stackoverflow.com/questions/49772151/download-a-folder-from-s3-using-boto3\n",
    "def download_directory_from_s3(bucket_name, remote_directory_name):\n",
    "    s3_resource = boto3.resource('s3')\n",
    "    bucket = s3_resource.Bucket(bucket_name)\n",
    "\n",
    "    for obj in bucket.objects.filter(Prefix = remote_directory_name):\n",
    "        \n",
    "        print(obj)\n",
    "        \n",
    "        if not os.path.exists(os.path.dirname(obj.key)):\n",
    "            os.makedirs(os.path.dirname(obj.key))\n",
    "\n",
    "        bucket.download_file(obj.key, obj.key) # save to same path"
   ]
  },
  {
   "cell_type": "code",
   "execution_count": 3,
   "metadata": {},
   "outputs": [],
   "source": [
    "bucket_name = 'jacky-data-engineering-us-export-test'\n",
    "remote_directory_name = 'ams/'"
   ]
  },
  {
   "cell_type": "code",
   "execution_count": 4,
   "metadata": {},
   "outputs": [
    {
     "name": "stdout",
     "output_type": "stream",
     "text": [
      "s3.ObjectSummary(bucket_name='jacky-data-engineering-us-export-test', key='ams/2020/202001201500/ams__billgen_2020__202001201500.csv')\n",
      "s3.ObjectSummary(bucket_name='jacky-data-engineering-us-export-test', key='ams/2020/202001201500/ams__cargodesc_2020__202001201500.csv')\n",
      "s3.ObjectSummary(bucket_name='jacky-data-engineering-us-export-test', key='ams/2020/202001201500/ams__consignee_2020__202001201500.csv')\n",
      "s3.ObjectSummary(bucket_name='jacky-data-engineering-us-export-test', key='ams/2020/202001201500/ams__container_2020__202001201500.csv')\n",
      "s3.ObjectSummary(bucket_name='jacky-data-engineering-us-export-test', key='ams/2020/202001201500/ams__hazmat_2020__202001201500.csv')\n",
      "s3.ObjectSummary(bucket_name='jacky-data-engineering-us-export-test', key='ams/2020/202001201500/ams__hazmatclass_2020__202001201500.csv')\n",
      "s3.ObjectSummary(bucket_name='jacky-data-engineering-us-export-test', key='ams/2020/202001201500/ams__header_2020__202001201500.csv')\n",
      "s3.ObjectSummary(bucket_name='jacky-data-engineering-us-export-test', key='ams/2020/202001201500/ams__marksnumbers_2020__202001201500.csv')\n",
      "s3.ObjectSummary(bucket_name='jacky-data-engineering-us-export-test', key='ams/2020/202001201500/ams__notifyparty_2020__202001201500.csv')\n",
      "s3.ObjectSummary(bucket_name='jacky-data-engineering-us-export-test', key='ams/2020/202001201500/ams__shipper_2020__202001201500.csv')\n",
      "s3.ObjectSummary(bucket_name='jacky-data-engineering-us-export-test', key='ams/2020/202001201500/ams__tariff_2020__202001201500.csv')\n"
     ]
    }
   ],
   "source": [
    "download_directory_from_s3(bucket_name, remote_directory_name)"
   ]
  },
  {
   "cell_type": "code",
   "execution_count": null,
   "metadata": {},
   "outputs": [],
   "source": []
  }
 ],
 "metadata": {
  "kernelspec": {
   "display_name": "Python 3",
   "language": "python",
   "name": "python3"
  },
  "language_info": {
   "codemirror_mode": {
    "name": "ipython",
    "version": 3
   },
   "file_extension": ".py",
   "mimetype": "text/x-python",
   "name": "python",
   "nbconvert_exporter": "python",
   "pygments_lexer": "ipython3",
   "version": "3.7.4"
  }
 },
 "nbformat": 4,
 "nbformat_minor": 4
}
