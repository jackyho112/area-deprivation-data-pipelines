{
 "cells": [
  {
   "cell_type": "code",
   "execution_count": 1,
   "metadata": {},
   "outputs": [],
   "source": [
    "import pandas as pd"
   ]
  },
  {
   "cell_type": "code",
   "execution_count": 2,
   "metadata": {},
   "outputs": [
    {
     "name": "stderr",
     "output_type": "stream",
     "text": [
      "/opt/anaconda3/lib/python3.7/site-packages/IPython/core/interactiveshell.py:3072: DtypeWarning: Columns (13,16,17,18,21,24,25,26,27,28) have mixed types.Specify dtype option on import or set low_memory=False.\n",
      "  interactivity=interactivity, compiler=compiler, result=result)\n"
     ]
    }
   ],
   "source": [
    "data = pd.read_csv('./data/ams__header_2020__202009291500.csv')"
   ]
  },
  {
   "cell_type": "code",
   "execution_count": 6,
   "metadata": {},
   "outputs": [
    {
     "data": {
      "text/plain": [
       "(14973956, 34)"
      ]
     },
     "execution_count": 6,
     "metadata": {},
     "output_type": "execute_result"
    }
   ],
   "source": [
    "data.shape"
   ]
  },
  {
   "cell_type": "code",
   "execution_count": 7,
   "metadata": {},
   "outputs": [
    {
     "data": {
      "text/plain": [
       "Index(['identifier', 'carrier_code', 'vessel_country_code', 'vessel_name',\n",
       "       'port_of_unlading', 'estimated_arrival_date',\n",
       "       'foreign_port_of_lading_qualifier', 'foreign_port_of_lading',\n",
       "       'manifest_quantity', 'manifest_unit', 'weight', 'weight_unit',\n",
       "       'measurement', 'measurement_unit', 'record_status_indicator',\n",
       "       'place_of_receipt', 'port_of_destination',\n",
       "       'foreign_port_of_destination_qualifier', 'foreign_port_of_destination',\n",
       "       'conveyance_id_qualifier', 'conveyance_id', 'in_bond_entry_type',\n",
       "       'mode_of_transportation', 'secondary_notify_party_1',\n",
       "       'secondary_notify_party_2', 'secondary_notify_party_3',\n",
       "       'secondary_notify_party_4', 'secondary_notify_party_5',\n",
       "       'secondary_notify_party_6', 'secondary_notify_party_7',\n",
       "       'secondary_notify_party_8', 'secondary_notify_party_9',\n",
       "       'secondary_notify_party_10', 'actual_arrival_date'],\n",
       "      dtype='object')"
      ]
     },
     "execution_count": 7,
     "metadata": {},
     "output_type": "execute_result"
    }
   ],
   "source": [
    "data.columns"
   ]
  },
  {
   "cell_type": "code",
   "execution_count": null,
   "metadata": {},
   "outputs": [],
   "source": []
  }
 ],
 "metadata": {
  "kernelspec": {
   "display_name": "Python 3",
   "language": "python",
   "name": "python3"
  },
  "language_info": {
   "codemirror_mode": {
    "name": "ipython",
    "version": 3
   },
   "file_extension": ".py",
   "mimetype": "text/x-python",
   "name": "python",
   "nbconvert_exporter": "python",
   "pygments_lexer": "ipython3",
   "version": "3.7.4"
  }
 },
 "nbformat": 4,
 "nbformat_minor": 4
}
